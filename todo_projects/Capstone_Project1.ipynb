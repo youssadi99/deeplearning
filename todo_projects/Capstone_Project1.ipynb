{
  "nbformat": 4,
  "nbformat_minor": 0,
  "metadata": {
    "kernelspec": {
      "display_name": "feedforward",
      "language": "python",
      "name": "feedforward"
    },
    "language_info": {
      "codemirror_mode": {
        "name": "ipython",
        "version": 3
      },
      "file_extension": ".py",
      "mimetype": "text/x-python",
      "name": "python",
      "nbconvert_exporter": "python",
      "pygments_lexer": "ipython3",
      "version": "3.6.9"
    },
    "colab": {
      "provenance": []
    }
  },
  "cells": [
    {
      "cell_type": "markdown",
      "metadata": {
        "id": "rffwkDWTz_Fo"
      },
      "source": [
        "# Capstone Project\n",
        "## Image classifier for the SVHN dataset\n",
        "### Instructions\n",
        "\n",
        "In this notebook, you will create a neural network that classifies real-world images digits. You will use concepts from throughout this course in building, training, testing, validating and saving your Tensorflow classifier model.\n",
        "\n",
        "This project is peer-assessed. Within this notebook you will find instructions in each section for how to complete the project. Pay close attention to the instructions as the peer review will be carried out according to a grading rubric that checks key parts of the project instructions. Feel free to add extra cells into the notebook as required.\n",
        "\n",
        "### How to submit\n",
        "\n",
        "When you have completed the Capstone project notebook, you will submit a pdf of the notebook for peer review. First ensure that the notebook has been fully executed from beginning to end, and all of the cell outputs are visible. This is important, as the grading rubric depends on the reviewer being able to view the outputs of your notebook. Save the notebook as a pdf (you could download the notebook with File -> Download .ipynb, open the notebook locally, and then File -> Download as -> PDF via LaTeX), and then submit this pdf for review.\n",
        "\n",
        "### Let's get started!\n",
        "\n",
        "We'll start by running some imports, and loading the dataset. For this project you are free to make further imports throughout the notebook as you wish."
      ]
    },
    {
      "cell_type": "code",
      "metadata": {
        "id": "O3vI8jSIz_Fs"
      },
      "source": [
        "import tensorflow as tf\n",
        "from scipy.io import loadmat"
      ],
      "execution_count": null,
      "outputs": []
    },
    {
      "cell_type": "markdown",
      "metadata": {
        "id": "8OrHY7TRz_Fx"
      },
      "source": [
        "For the capstone project, you will use the [SVHN dataset](http://ufldl.stanford.edu/housenumbers/). This is an image dataset of over 600,000 digit images in all, and is a harder dataset than MNIST as the numbers appear in the context of natural scene images. SVHN is obtained from house numbers in Google Street View images.\n",
        "\n",
        "* Y. Netzer, T. Wang, A. Coates, A. Bissacco, B. Wu and A. Y. Ng. \"Reading Digits in Natural Images with Unsupervised Feature Learning\". NIPS Workshop on Deep Learning and Unsupervised Feature Learning, 2011.\n",
        "\n",
        "The train and test datasets required for this project can be downloaded from [here](http://ufldl.stanford.edu/housenumbers/train.tar.gz) and [here](http://ufldl.stanford.edu/housenumbers/test.tar.gz). Once unzipped, you will have two files: `train_32x32.mat` and `test_32x32.mat`. You should store these files in Drive for use in this Colab notebook.\n",
        "\n",
        "Your goal is to develop an end-to-end workflow for building, training, validating, evaluating and saving a neural network that classifies a real-world image into one of ten classes."
      ]
    },
    {
      "cell_type": "code",
      "metadata": {
        "id": "r8BHW8P_2wxw"
      },
      "source": [
        "# Run this cell to connect to your Drive folder\n",
        "\n",
        "from google.colab import drive\n",
        "drive.mount('/content/gdrive')"
      ],
      "execution_count": null,
      "outputs": []
    },
    {
      "cell_type": "code",
      "metadata": {
        "id": "YWdiz3n_z_Fy"
      },
      "source": [
        "# Load the dataset from your Drive folder\n",
        "\n",
        "train = loadmat('path/to/train_32x32.mat')\n",
        "test = loadmat('path/to/test_32x32.mat')"
      ],
      "execution_count": null,
      "outputs": []
    },
    {
      "cell_type": "markdown",
      "metadata": {
        "id": "Sot1IcuZz_F2"
      },
      "source": [
        "Both `train` and `test` are dictionaries with keys `X` and `y` for the input images and labels respectively."
      ]
    },
    {
      "cell_type": "markdown",
      "metadata": {
        "id": "_Q1n_Ai2z_F3"
      },
      "source": [
        "## 1. Inspect and preprocess the dataset\n",
        "* Extract the training and testing images and labels separately from the train and test dictionaries loaded for you.\n",
        "* Select a random sample of images and corresponding labels from the dataset (at least 10), and display them in a figure.\n",
        "* Convert the training and test images to grayscale by taking the average across all colour channels for each pixel. _Hint: retain the channel dimension, which will now have size 1._\n",
        "* Select a random sample of the grayscale images and corresponding labels from the dataset (at least 10), and display them in a figure."
      ]
    },
    {
      "cell_type": "code",
      "metadata": {
        "id": "-WIH5hyXz_F4"
      },
      "source": [],
      "execution_count": null,
      "outputs": []
    },
    {
      "cell_type": "code",
      "metadata": {
        "id": "zmGJK3xgz_F8"
      },
      "source": [],
      "execution_count": null,
      "outputs": []
    },
    {
      "cell_type": "code",
      "metadata": {
        "id": "6SR4gYffz_F_"
      },
      "source": [],
      "execution_count": null,
      "outputs": []
    },
    {
      "cell_type": "code",
      "metadata": {
        "id": "UXYwWhHpz_GD"
      },
      "source": [],
      "execution_count": null,
      "outputs": []
    },
    {
      "cell_type": "code",
      "metadata": {
        "id": "auFZ63dtz_GH"
      },
      "source": [],
      "execution_count": null,
      "outputs": []
    },
    {
      "cell_type": "code",
      "metadata": {
        "id": "CGHZvq4zz_GK"
      },
      "source": [],
      "execution_count": null,
      "outputs": []
    },
    {
      "cell_type": "markdown",
      "metadata": {
        "id": "7e7iSyWXz_GN"
      },
      "source": [
        "## 2. MLP neural network classifier\n",
        "* Build an MLP classifier model using the Sequential API. Your model should use only Flatten and Dense layers, with the final layer having a 10-way softmax output.\n",
        "* You should design and build the model yourself. Feel free to experiment with different MLP architectures. _Hint: to achieve a reasonable accuracy you won't need to use more than 4 or 5 layers._\n",
        "* Print out the model summary (using the summary() method)\n",
        "* Compile and train the model (we recommend a maximum of 30 epochs), making use of both training and validation sets during the training run.\n",
        "* Your model should track at least one appropriate metric, and use at least two callbacks during training, one of which should be a ModelCheckpoint callback.\n",
        "* As a guide, you should aim to achieve a final categorical cross entropy training loss of less than 1.0 (the validation loss might be higher).\n",
        "* Plot the learning curves for loss vs epoch and accuracy vs epoch for both training and validation sets.\n",
        "* Compute and display the loss and accuracy of the trained model on the test set."
      ]
    },
    {
      "cell_type": "code",
      "metadata": {
        "id": "l14VCBFVz_GO"
      },
      "source": [],
      "execution_count": null,
      "outputs": []
    },
    {
      "cell_type": "code",
      "metadata": {
        "id": "beEZO1kvz_GR"
      },
      "source": [],
      "execution_count": null,
      "outputs": []
    },
    {
      "cell_type": "code",
      "metadata": {
        "id": "YxJXq3xYz_GU"
      },
      "source": [],
      "execution_count": null,
      "outputs": []
    },
    {
      "cell_type": "code",
      "metadata": {
        "id": "pPPbzGhVz_GW"
      },
      "source": [],
      "execution_count": null,
      "outputs": []
    },
    {
      "cell_type": "code",
      "metadata": {
        "id": "7b5_8VsCz_GZ"
      },
      "source": [],
      "execution_count": null,
      "outputs": []
    },
    {
      "cell_type": "code",
      "metadata": {
        "id": "b0kH6VYqz_Gc"
      },
      "source": [],
      "execution_count": null,
      "outputs": []
    },
    {
      "cell_type": "markdown",
      "metadata": {
        "id": "ncPtDtCLz_Gg"
      },
      "source": [
        "## 3. CNN neural network classifier\n",
        "* Build a CNN classifier model using the Sequential API. Your model should use the Conv2D, MaxPool2D, BatchNormalization, Flatten, Dense and Dropout layers. The final layer should again have a 10-way softmax output.\n",
        "* You should design and build the model yourself. Feel free to experiment with different CNN architectures. _Hint: to achieve a reasonable accuracy you won't need to use more than 2 or 3 convolutional layers and 2 fully connected layers.)_\n",
        "* The CNN model should use fewer trainable parameters than your MLP model.\n",
        "* Compile and train the model (we recommend a maximum of 30 epochs), making use of both training and validation sets during the training run.\n",
        "* Your model should track at least one appropriate metric, and use at least two callbacks during training, one of which should be a ModelCheckpoint callback.\n",
        "* You should aim to beat the MLP model performance with fewer parameters!\n",
        "* Plot the learning curves for loss vs epoch and accuracy vs epoch for both training and validation sets.\n",
        "* Compute and display the loss and accuracy of the trained model on the test set."
      ]
    },
    {
      "cell_type": "code",
      "metadata": {
        "id": "yk2mH3Npz_Gh"
      },
      "source": [],
      "execution_count": null,
      "outputs": []
    },
    {
      "cell_type": "code",
      "metadata": {
        "id": "lbgRgZ5cz_Gn"
      },
      "source": [],
      "execution_count": null,
      "outputs": []
    },
    {
      "cell_type": "code",
      "metadata": {
        "id": "nkmS2vV2z_Gs"
      },
      "source": [],
      "execution_count": null,
      "outputs": []
    },
    {
      "cell_type": "code",
      "metadata": {
        "id": "VytQECDVz_Gv"
      },
      "source": [],
      "execution_count": null,
      "outputs": []
    },
    {
      "cell_type": "code",
      "metadata": {
        "id": "60mJypwQz_Gx"
      },
      "source": [],
      "execution_count": null,
      "outputs": []
    },
    {
      "cell_type": "code",
      "metadata": {
        "id": "w2v80qosz_G0"
      },
      "source": [],
      "execution_count": null,
      "outputs": []
    },
    {
      "cell_type": "markdown",
      "metadata": {
        "id": "3iBYFPWUz_G4"
      },
      "source": [
        "## 4. Get model predictions\n",
        "* Load the best weights for the MLP and CNN models that you saved during the training run.\n",
        "* Randomly select 5 images and corresponding labels from the test set and display the images with their labels.\n",
        "* Alongside the image and label, show each model’s predictive distribution as a bar chart, and the final model prediction given by the label with maximum probability."
      ]
    },
    {
      "cell_type": "code",
      "metadata": {
        "id": "XMYYWs0oz_G5"
      },
      "source": [],
      "execution_count": null,
      "outputs": []
    },
    {
      "cell_type": "code",
      "metadata": {
        "id": "8yUPWbFCz_G8"
      },
      "source": [],
      "execution_count": null,
      "outputs": []
    },
    {
      "cell_type": "code",
      "metadata": {
        "id": "W48syko0z_G-"
      },
      "source": [],
      "execution_count": null,
      "outputs": []
    },
    {
      "cell_type": "code",
      "metadata": {
        "id": "J_qfLvK-z_HA"
      },
      "source": [],
      "execution_count": null,
      "outputs": []
    },
    {
      "cell_type": "code",
      "metadata": {
        "id": "2Lx68VA7z_HE"
      },
      "source": [],
      "execution_count": null,
      "outputs": []
    },
    {
      "cell_type": "code",
      "metadata": {
        "id": "NxKa37PWz_HL"
      },
      "source": [],
      "execution_count": null,
      "outputs": []
    }
  ]
}