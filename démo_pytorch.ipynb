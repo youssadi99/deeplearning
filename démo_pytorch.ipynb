{
  "nbformat": 4,
  "nbformat_minor": 0,
  "metadata": {
    "colab": {
      "provenance": [],
      "gpuType": "T4",
      "authorship_tag": "ABX9TyP9H8iKqOZ246A30o2YRElJ",
      "include_colab_link": true
    },
    "kernelspec": {
      "name": "python3",
      "display_name": "Python 3"
    },
    "language_info": {
      "name": "python"
    },
    "accelerator": "GPU"
  },
  "cells": [
    {
      "cell_type": "markdown",
      "metadata": {
        "id": "view-in-github",
        "colab_type": "text"
      },
      "source": [
        "<a href=\"https://colab.research.google.com/github/youssadi99/deeplearning/blob/main/d%C3%A9mo_pytorch.ipynb\" target=\"_parent\"><img src=\"https://colab.research.google.com/assets/colab-badge.svg\" alt=\"Open In Colab\"/></a>"
      ]
    },
    {
      "cell_type": "code",
      "execution_count": null,
      "metadata": {
        "colab": {
          "base_uri": "https://localhost:8080/"
        },
        "id": "wR8Jjwxy6xpM",
        "outputId": "1c01fd6c-ea92-4fa8-e342-bd67936449f5"
      },
      "outputs": [
        {
          "output_type": "stream",
          "name": "stdout",
          "text": [
            "Tue May 13 14:00:35 2025       \n",
            "+-----------------------------------------------------------------------------------------+\n",
            "| NVIDIA-SMI 550.54.15              Driver Version: 550.54.15      CUDA Version: 12.4     |\n",
            "|-----------------------------------------+------------------------+----------------------+\n",
            "| GPU  Name                 Persistence-M | Bus-Id          Disp.A | Volatile Uncorr. ECC |\n",
            "| Fan  Temp   Perf          Pwr:Usage/Cap |           Memory-Usage | GPU-Util  Compute M. |\n",
            "|                                         |                        |               MIG M. |\n",
            "|=========================================+========================+======================|\n",
            "|   0  Tesla T4                       Off |   00000000:00:04.0 Off |                    0 |\n",
            "| N/A   47C    P8              9W /   70W |       0MiB /  15360MiB |      0%      Default |\n",
            "|                                         |                        |                  N/A |\n",
            "+-----------------------------------------+------------------------+----------------------+\n",
            "                                                                                         \n",
            "+-----------------------------------------------------------------------------------------+\n",
            "| Processes:                                                                              |\n",
            "|  GPU   GI   CI        PID   Type   Process name                              GPU Memory |\n",
            "|        ID   ID                                                               Usage      |\n",
            "|=========================================================================================|\n",
            "|  No running processes found                                                             |\n",
            "+-----------------------------------------------------------------------------------------+\n"
          ]
        }
      ],
      "source": [
        "!nvidia-smi"
      ]
    },
    {
      "cell_type": "code",
      "source": [
        "device = \"cuda\" if torch.cuda.is_available() else \"cpu\"\n",
        "device"
      ],
      "metadata": {
        "colab": {
          "base_uri": "https://localhost:8080/",
          "height": 36
        },
        "id": "t_EbJa8IlsI8",
        "outputId": "cca9c1fa-63aa-4405-c2a1-c5902e89f8d1"
      },
      "execution_count": null,
      "outputs": [
        {
          "output_type": "execute_result",
          "data": {
            "text/plain": [
              "'cuda'"
            ],
            "application/vnd.google.colaboratory.intrinsic+json": {
              "type": "string"
            }
          },
          "metadata": {},
          "execution_count": 4
        }
      ]
    },
    {
      "cell_type": "code",
      "source": [
        "import torch\n",
        "import pandas as pd\n",
        "import numpy as np\n",
        "import matplotlib.pyplot as plt\n",
        "print(torch.__version__)"
      ],
      "metadata": {
        "colab": {
          "base_uri": "https://localhost:8080/"
        },
        "id": "rN5o6Nps7k1b",
        "outputId": "128aaae5-4f9d-4bd7-9728-3d2f4c3f3135"
      },
      "execution_count": null,
      "outputs": [
        {
          "output_type": "stream",
          "name": "stdout",
          "text": [
            "2.6.0+cu124\n"
          ]
        }
      ]
    },
    {
      "cell_type": "markdown",
      "source": [
        "## Tensor in torch"
      ],
      "metadata": {
        "id": "iJJ2smUG9QOj"
      }
    },
    {
      "cell_type": "code",
      "source": [
        "#scalaire\n",
        "scalar = torch.tensor(7)\n",
        "print(scalar)\n",
        "print(scalar.ndim)\n",
        "print(scalar.shape)"
      ],
      "metadata": {
        "colab": {
          "base_uri": "https://localhost:8080/"
        },
        "id": "63o0HwKF-KRz",
        "outputId": "e30a4b9f-f9ae-4390-cc22-516ffa762ea1"
      },
      "execution_count": null,
      "outputs": [
        {
          "output_type": "stream",
          "name": "stdout",
          "text": [
            "tensor(7)\n",
            "0\n",
            "torch.Size([])\n"
          ]
        }
      ]
    },
    {
      "cell_type": "code",
      "source": [
        "#vecteur\n",
        "vector = torch.tensor([2,3,5])\n",
        "print(vector)\n",
        "print(vector.ndim) #== number of []\n",
        "print(vector.shape)"
      ],
      "metadata": {
        "colab": {
          "base_uri": "https://localhost:8080/"
        },
        "id": "Vl_ZHdpq-VpR",
        "outputId": "e0cf8327-0b6b-4130-957a-506d02b7f1f9"
      },
      "execution_count": null,
      "outputs": [
        {
          "output_type": "stream",
          "name": "stdout",
          "text": [
            "tensor([2, 3, 5])\n",
            "1\n",
            "torch.Size([3])\n"
          ]
        }
      ]
    },
    {
      "cell_type": "code",
      "source": [
        "#matrice\n",
        "MATRIX = torch.tensor([[2,3,5],\n",
        "                       [1,7,4]])\n",
        "print(MATRIX)\n",
        "print(MATRIX.ndim)\n",
        "print(MATRIX.shape)\n",
        "print(MATRIX[1])"
      ],
      "metadata": {
        "colab": {
          "base_uri": "https://localhost:8080/"
        },
        "id": "4Jte6FF7AuPT",
        "outputId": "92494ea3-68d1-4d63-d1e2-1c60409973e2"
      },
      "execution_count": null,
      "outputs": [
        {
          "output_type": "stream",
          "name": "stdout",
          "text": [
            "tensor([[2, 3, 5],\n",
            "        [1, 7, 4]])\n",
            "2\n",
            "torch.Size([2, 3])\n",
            "tensor([1, 7, 4])\n"
          ]
        }
      ]
    },
    {
      "cell_type": "code",
      "source": [
        "#tenseur multi dimension\n",
        "TENSOR = torch.tensor([\n",
        "    [[2,3,5],[1,7,4]],\n",
        "    [[8,8,8],[7,7,7]],\n",
        "    [[1,1,1],[4,4,4]],\n",
        "    [[0,0,0],[9,9,9]]\n",
        "    ])\n",
        "print(TENSOR)\n",
        "print(TENSOR.ndim)\n",
        "print(TENSOR.shape)\n",
        "print(TENSOR[1])"
      ],
      "metadata": {
        "colab": {
          "base_uri": "https://localhost:8080/"
        },
        "id": "zY1YvNUJBeTQ",
        "outputId": "7e95ea32-255f-4941-8630-329ae3bc9a43"
      },
      "execution_count": null,
      "outputs": [
        {
          "output_type": "stream",
          "name": "stdout",
          "text": [
            "tensor([[[2, 3, 5],\n",
            "         [1, 7, 4]],\n",
            "\n",
            "        [[8, 8, 8],\n",
            "         [7, 7, 7]],\n",
            "\n",
            "        [[1, 1, 1],\n",
            "         [4, 4, 4]],\n",
            "\n",
            "        [[0, 0, 0],\n",
            "         [9, 9, 9]]])\n",
            "3\n",
            "torch.Size([4, 2, 3])\n",
            "tensor([[8, 8, 8],\n",
            "        [7, 7, 7]])\n"
          ]
        }
      ]
    },
    {
      "cell_type": "markdown",
      "source": [
        "## Random tensors"
      ],
      "metadata": {
        "id": "zsx3dHbSDnZI"
      }
    },
    {
      "cell_type": "code",
      "source": [
        "#tenseur avec des valeurs aléatoires\n",
        "RANDOM_TENSOR = torch.rand(3,4)\n",
        "print(RANDOM_TENSOR)\n",
        "#tensor with same image size\n",
        "RANDOM_IMAGE_TENSOR = torch.rand(3,224,224)\n",
        "print(RANDOM_IMAGE_TENSOR.shape)"
      ],
      "metadata": {
        "colab": {
          "base_uri": "https://localhost:8080/"
        },
        "id": "A5bDz7xtD4Au",
        "outputId": "87125a09-a6a2-4765-c19e-5f4d156d77a6"
      },
      "execution_count": null,
      "outputs": [
        {
          "output_type": "stream",
          "name": "stdout",
          "text": [
            "tensor([[0.5755, 0.2897, 0.0367, 0.2609],\n",
            "        [0.2212, 0.6317, 0.9249, 0.1807],\n",
            "        [0.1413, 0.7143, 0.2506, 0.9664]])\n",
            "torch.Size([3, 224, 224])\n"
          ]
        }
      ]
    },
    {
      "cell_type": "code",
      "source": [
        "ZERO_TENSOR = torch.zeros(3,4)\n",
        "print(ZERO_TENSOR)"
      ],
      "metadata": {
        "id": "XXUKSeY-Fg3P"
      },
      "execution_count": null,
      "outputs": []
    },
    {
      "cell_type": "code",
      "source": [
        "ONES_TENSOR = torch.ones(3,4)\n",
        "print(ONES_TENSOR)\n",
        "print(ONES_TENSOR.dtype)"
      ],
      "metadata": {
        "id": "yU5Vs-_RGxWK"
      },
      "execution_count": null,
      "outputs": []
    },
    {
      "cell_type": "code",
      "source": [
        "TORCH_RANGE = torch.arange(1,11)\n",
        "print(TORCH_RANGE)"
      ],
      "metadata": {
        "colab": {
          "base_uri": "https://localhost:8080/"
        },
        "id": "oG3q1uezHVf_",
        "outputId": "76a7dda3-9a06-4e6e-80bb-8607d5d5f991"
      },
      "execution_count": null,
      "outputs": [
        {
          "output_type": "stream",
          "name": "stdout",
          "text": [
            "tensor([ 1,  2,  3,  4,  5,  6,  7,  8,  9, 10])\n"
          ]
        }
      ]
    },
    {
      "cell_type": "code",
      "source": [
        "T1 = torch.arange(start=0,end=10,step=2)\n",
        "print(T1)\n",
        "T0 = torch.zeros_like(input=T1)\n",
        "print(T0)"
      ],
      "metadata": {
        "colab": {
          "base_uri": "https://localhost:8080/"
        },
        "id": "soe-I5KhH8of",
        "outputId": "0f677b3a-d36b-47db-f3a7-78a338628d22"
      },
      "execution_count": null,
      "outputs": [
        {
          "output_type": "stream",
          "name": "stdout",
          "text": [
            "tensor([0, 2, 4, 6, 8])\n",
            "tensor([0, 0, 0, 0, 0])\n"
          ]
        }
      ]
    },
    {
      "cell_type": "code",
      "source": [
        "#dtype by default is float32 = meaning that each floating number is represented by 32bit (high quality expression vs float16 for example)\n",
        "#device = cpu or cuda\n",
        "#requires_grad = whether to track or not gradients with this tensors operation\n",
        "float32_tensor = torch.tensor([3.0,6.0,9.0],dtype=None,device=None,requires_grad=False)\n",
        "print(float32_tensor)"
      ],
      "metadata": {
        "colab": {
          "base_uri": "https://localhost:8080/"
        },
        "id": "eLC0qwQJK8yq",
        "outputId": "a51e77d6-cfcd-442a-8b30-520ba9e40790"
      },
      "execution_count": null,
      "outputs": [
        {
          "output_type": "stream",
          "name": "stdout",
          "text": [
            "tensor([3., 6., 9.])\n"
          ]
        }
      ]
    },
    {
      "cell_type": "code",
      "source": [
        "float16_tensor = float32_tensor.type(torch.float16)\n",
        "print(float16_tensor)"
      ],
      "metadata": {
        "id": "fv3rQ4pCL0ux"
      },
      "execution_count": null,
      "outputs": []
    },
    {
      "cell_type": "code",
      "source": [
        "#Tensor Attribute\n",
        "print(f\"tensor dtype: {float32_tensor.dtype}\")\n",
        "print(f\"tensor device: {float32_tensor.device}\")\n",
        "print(f\"tensor shape: {float32_tensor.shape}\")"
      ],
      "metadata": {
        "id": "k6zuen8ROXww"
      },
      "execution_count": null,
      "outputs": []
    },
    {
      "cell_type": "code",
      "source": [
        "#tensor operations\n",
        "some_tensor = torch.tensor([1,2,3])\n",
        "print(some_tensor)"
      ],
      "metadata": {
        "id": "wu43_HMhQmzi"
      },
      "execution_count": null,
      "outputs": []
    },
    {
      "cell_type": "code",
      "source": [
        "some_tensor + 10"
      ],
      "metadata": {
        "id": "Y6BpcaKjQy2k"
      },
      "execution_count": null,
      "outputs": []
    },
    {
      "cell_type": "code",
      "source": [
        "torch.add(some_tensor,10)"
      ],
      "metadata": {
        "id": "85bQ9BmjQ2hK"
      },
      "execution_count": null,
      "outputs": []
    },
    {
      "cell_type": "code",
      "source": [
        "some_tensor * 10"
      ],
      "metadata": {
        "colab": {
          "base_uri": "https://localhost:8080/"
        },
        "id": "H4aJfJahQ6XZ",
        "outputId": "75da5e5c-4cc2-467c-aeb2-d803bee465ec"
      },
      "execution_count": null,
      "outputs": [
        {
          "output_type": "execute_result",
          "data": {
            "text/plain": [
              "tensor([10, 20, 30])"
            ]
          },
          "metadata": {},
          "execution_count": 33
        }
      ]
    },
    {
      "cell_type": "code",
      "source": [
        "torch.multiply(some_tensor,10)"
      ],
      "metadata": {
        "id": "VOU-E2lyQ9yH"
      },
      "execution_count": null,
      "outputs": []
    },
    {
      "cell_type": "code",
      "source": [
        "t1 = torch.rand(2,3)\n",
        "t2 = torch.rand(3,2)\n",
        "print(t1 * t1) #element wise multiplication\n",
        "print(torch.matmul(t1,t2)) #matrix multiplication (we can write it also as torch.mm(t1,t2))"
      ],
      "metadata": {
        "id": "Ti4g9FkvRWca"
      },
      "execution_count": null,
      "outputs": []
    },
    {
      "cell_type": "code",
      "source": [
        "torch.mm(t1, t1.T)"
      ],
      "metadata": {
        "id": "4KlngeJvSoKD"
      },
      "execution_count": null,
      "outputs": []
    },
    {
      "cell_type": "code",
      "source": [
        "x = torch.arange(1,10)\n",
        "print(x)"
      ],
      "metadata": {
        "id": "bRu9fRIrOwjj"
      },
      "execution_count": null,
      "outputs": []
    },
    {
      "cell_type": "code",
      "source": [
        "torch.max(x), torch.min(x), x.min(), x.max()\n",
        "#"
      ],
      "metadata": {
        "id": "AiR8KovdO5AD"
      },
      "execution_count": null,
      "outputs": []
    },
    {
      "cell_type": "code",
      "source": [
        "#x.mean()\n",
        "x.dtype"
      ],
      "metadata": {
        "id": "-hVHPAWzPLh7"
      },
      "execution_count": null,
      "outputs": []
    },
    {
      "cell_type": "code",
      "source": [
        "x.type(torch.float32).mean()\n"
      ],
      "metadata": {
        "id": "YnUCi5O-P5bO"
      },
      "execution_count": null,
      "outputs": []
    },
    {
      "cell_type": "code",
      "source": [
        "x.sum()"
      ],
      "metadata": {
        "id": "stKkKToaPYF0"
      },
      "execution_count": null,
      "outputs": []
    },
    {
      "cell_type": "code",
      "source": [
        "x.argmin(), x.argmax()"
      ],
      "metadata": {
        "id": "-zqYlFaoPbtU"
      },
      "execution_count": null,
      "outputs": []
    },
    {
      "cell_type": "markdown",
      "source": [
        "## Reshaping, View, Stacking, squeezing and unsequeezing"
      ],
      "metadata": {
        "id": "S9eQfOXFmuY4"
      }
    },
    {
      "cell_type": "code",
      "source": [
        "#reshape\n",
        "x = torch.arange(1.,10.)\n",
        "print(x, x.shape)\n",
        "x_reshaped = x.reshape(1,9) #adding an extra one dimension\n",
        "print(x_reshaped, x_reshaped.shape)"
      ],
      "metadata": {
        "colab": {
          "base_uri": "https://localhost:8080/"
        },
        "id": "G1fPc-ggm5TB",
        "outputId": "a6900760-7799-43f7-a30b-be4d1dba0616"
      },
      "execution_count": null,
      "outputs": [
        {
          "output_type": "stream",
          "name": "stdout",
          "text": [
            "tensor([1., 2., 3., 4., 5., 6., 7., 8., 9.]) torch.Size([9])\n",
            "tensor([[1., 2., 3., 4., 5., 6., 7., 8., 9.]]) torch.Size([1, 9])\n"
          ]
        }
      ]
    },
    {
      "cell_type": "code",
      "source": [
        "x_reshaped = x.reshape(9,1)\n",
        "print(x_reshaped)"
      ],
      "metadata": {
        "colab": {
          "base_uri": "https://localhost:8080/"
        },
        "id": "TmZrrDyLn0AW",
        "outputId": "39cfba01-deec-4615-9a2e-3a727e4edd6d"
      },
      "execution_count": null,
      "outputs": [
        {
          "output_type": "stream",
          "name": "stdout",
          "text": [
            "tensor([[1.],\n",
            "        [2.],\n",
            "        [3.],\n",
            "        [4.],\n",
            "        [5.],\n",
            "        [6.],\n",
            "        [7.],\n",
            "        [8.],\n",
            "        [9.]])\n"
          ]
        }
      ]
    },
    {
      "cell_type": "code",
      "source": [
        "print(x_reshaped.ndim)"
      ],
      "metadata": {
        "id": "APZfkT1OoKqA"
      },
      "execution_count": null,
      "outputs": []
    },
    {
      "cell_type": "code",
      "source": [
        "# les view (changing z is changing x; they both share the memory)\n",
        "z = x.view(1,9) #like shape\n",
        "print(z)"
      ],
      "metadata": {
        "colab": {
          "base_uri": "https://localhost:8080/"
        },
        "id": "MXTCjW0apS0f",
        "outputId": "8400cb1d-c4ad-42fd-d720-bab7fae5314f"
      },
      "execution_count": null,
      "outputs": [
        {
          "output_type": "stream",
          "name": "stdout",
          "text": [
            "tensor([[1., 2., 3., 4., 5., 6., 7., 8., 9.]])\n"
          ]
        }
      ]
    },
    {
      "cell_type": "code",
      "source": [
        "z[:, 0] = 5\n",
        "print(z)\n",
        "print(x)"
      ],
      "metadata": {
        "colab": {
          "base_uri": "https://localhost:8080/"
        },
        "id": "i9SyAe-duu1f",
        "outputId": "a17774cf-1010-4895-ca7a-9d08132a28c0"
      },
      "execution_count": null,
      "outputs": [
        {
          "output_type": "stream",
          "name": "stdout",
          "text": [
            "tensor([[5., 2., 3., 4., 5., 6., 7., 8., 9.]])\n",
            "tensor([5., 2., 3., 4., 5., 6., 7., 8., 9.])\n"
          ]
        }
      ]
    },
    {
      "cell_type": "code",
      "source": [
        "#torch stacks\n",
        "stacked = torch.stack([x,x,x,x], dim=0)\n",
        "stacked"
      ],
      "metadata": {
        "colab": {
          "base_uri": "https://localhost:8080/"
        },
        "id": "LlH2ASFwu-nD",
        "outputId": "2335d828-a321-4282-a51c-b41585442d93"
      },
      "execution_count": null,
      "outputs": [
        {
          "output_type": "execute_result",
          "data": {
            "text/plain": [
              "tensor([[5., 2., 3., 4., 5., 6., 7., 8., 9.],\n",
              "        [5., 2., 3., 4., 5., 6., 7., 8., 9.],\n",
              "        [5., 2., 3., 4., 5., 6., 7., 8., 9.],\n",
              "        [5., 2., 3., 4., 5., 6., 7., 8., 9.]])"
            ]
          },
          "metadata": {},
          "execution_count": 18
        }
      ]
    },
    {
      "cell_type": "code",
      "source": [
        "print(stacked.shape, x.shape)"
      ],
      "metadata": {
        "id": "IEWWMDlIv7iV"
      },
      "execution_count": null,
      "outputs": []
    },
    {
      "cell_type": "code",
      "source": [
        "stacked2 = torch.stack([x,x,x,x], dim=1)\n",
        "stacked2"
      ],
      "metadata": {
        "colab": {
          "base_uri": "https://localhost:8080/"
        },
        "id": "pCB0_eaHwIV7",
        "outputId": "942dc4de-45ac-4a8c-fea7-c9c22dae51f4"
      },
      "execution_count": null,
      "outputs": [
        {
          "output_type": "execute_result",
          "data": {
            "text/plain": [
              "tensor([[5., 5., 5., 5.],\n",
              "        [2., 2., 2., 2.],\n",
              "        [3., 3., 3., 3.],\n",
              "        [4., 4., 4., 4.],\n",
              "        [5., 5., 5., 5.],\n",
              "        [6., 6., 6., 6.],\n",
              "        [7., 7., 7., 7.],\n",
              "        [8., 8., 8., 8.],\n",
              "        [9., 9., 9., 9.]])"
            ]
          },
          "metadata": {},
          "execution_count": 19
        }
      ]
    },
    {
      "cell_type": "code",
      "source": [
        "print(stacked2.shape)"
      ],
      "metadata": {
        "id": "r5JGD_WwwXXU"
      },
      "execution_count": null,
      "outputs": []
    },
    {
      "cell_type": "code",
      "source": [
        "#squeeze : remove all 1 dimensions from a target tensor\n",
        "y = torch.rand(1,2,1,10)\n",
        "print(y)\n",
        "print(y.shape)\n",
        "y_squeezed = y.squeeze()\n",
        "print(y_squeezed)\n",
        "print(y_squeezed.shape)"
      ],
      "metadata": {
        "id": "zS-bPgvDw6xN",
        "colab": {
          "base_uri": "https://localhost:8080/"
        },
        "outputId": "9a8915a2-3624-4023-8c0c-3c68a3b38e4c"
      },
      "execution_count": null,
      "outputs": [
        {
          "output_type": "stream",
          "name": "stdout",
          "text": [
            "tensor([[[[0.4349, 0.5281, 0.1719, 0.3152, 0.5994, 0.4029, 0.4599, 0.9127,\n",
            "           0.7934, 0.5214]],\n",
            "\n",
            "         [[0.3992, 0.9273, 0.5007, 0.6444, 0.5309, 0.1294, 0.8642, 0.2301,\n",
            "           0.2956, 0.6642]]]])\n",
            "torch.Size([1, 2, 1, 10])\n",
            "tensor([[0.4349, 0.5281, 0.1719, 0.3152, 0.5994, 0.4029, 0.4599, 0.9127, 0.7934,\n",
            "         0.5214],\n",
            "        [0.3992, 0.9273, 0.5007, 0.6444, 0.5309, 0.1294, 0.8642, 0.2301, 0.2956,\n",
            "         0.6642]])\n",
            "torch.Size([2, 10])\n"
          ]
        }
      ]
    },
    {
      "cell_type": "code",
      "source": [
        "#unsquuze\n",
        "y_unsqueezed = y_squeezed.unsqueeze(dim=0)\n",
        "print(y_unsqueezed)\n",
        "print(y_unsqueezed.shape)"
      ],
      "metadata": {
        "colab": {
          "base_uri": "https://localhost:8080/"
        },
        "id": "xTxdco64EFqy",
        "outputId": "c2b7a4af-5077-47a7-fb78-ea0c2257251c"
      },
      "execution_count": null,
      "outputs": [
        {
          "output_type": "stream",
          "name": "stdout",
          "text": [
            "tensor([[[0.4349, 0.5281, 0.1719, 0.3152, 0.5994, 0.4029, 0.4599, 0.9127,\n",
            "          0.7934, 0.5214],\n",
            "         [0.3992, 0.9273, 0.5007, 0.6444, 0.5309, 0.1294, 0.8642, 0.2301,\n",
            "          0.2956, 0.6642]]])\n",
            "torch.Size([1, 2, 10])\n"
          ]
        }
      ]
    },
    {
      "cell_type": "code",
      "source": [
        "y_unsqueezed = y_squeezed.unsqueeze(dim=1)\n",
        "print(y_squeezed.shape)\n",
        "print(y_unsqueezed.shape)"
      ],
      "metadata": {
        "colab": {
          "base_uri": "https://localhost:8080/"
        },
        "id": "yAOfhJSGH30P",
        "outputId": "e8699938-e632-4777-d473-8b7515217cc2"
      },
      "execution_count": null,
      "outputs": [
        {
          "output_type": "stream",
          "name": "stdout",
          "text": [
            "torch.Size([2, 10])\n",
            "torch.Size([2, 1, 10])\n"
          ]
        }
      ]
    },
    {
      "cell_type": "code",
      "source": [
        "#permute\n",
        "x = torch.randn(2,3,4)\n",
        "print(x)\n",
        "print(x.shape)\n",
        "q = x.permute(2,0,1)\n",
        "print(q.shape)"
      ],
      "metadata": {
        "colab": {
          "base_uri": "https://localhost:8080/"
        },
        "id": "gFj8qUNvJ3YP",
        "outputId": "55009286-36ef-4308-f13f-4050abe84a8a"
      },
      "execution_count": null,
      "outputs": [
        {
          "output_type": "stream",
          "name": "stdout",
          "text": [
            "tensor([[[ 0.8977,  0.1144, -2.0771,  0.4874],\n",
            "         [ 1.3430, -0.1658,  1.9475, -0.1504],\n",
            "         [ 0.3288, -2.1620, -0.9904,  1.8373]],\n",
            "\n",
            "        [[ 1.6008, -2.5697, -0.4778, -0.1045],\n",
            "         [ 0.6639,  0.3099,  1.8616,  0.8885],\n",
            "         [-0.1742,  0.3731,  2.2530,  2.4084]]])\n",
            "torch.Size([2, 3, 4])\n",
            "torch.Size([4, 2, 3])\n"
          ]
        }
      ]
    },
    {
      "cell_type": "code",
      "source": [
        "print(x.permute(2,0,1).shape)"
      ],
      "metadata": {
        "id": "OeYfLgpsKdZx"
      },
      "execution_count": null,
      "outputs": []
    },
    {
      "cell_type": "code",
      "source": [
        "image = torch.rand(224,224,3)\n",
        "print(image.shape)\n",
        "image_permuted = image.permute(2,0,1)\n",
        "print(image_permuted.shape)"
      ],
      "metadata": {
        "id": "ERMrCXZzNM9L"
      },
      "execution_count": null,
      "outputs": []
    },
    {
      "cell_type": "markdown",
      "source": [
        "#Slicing and convesrion to numpy\n"
      ],
      "metadata": {
        "id": "osyU65BzkrIW"
      }
    },
    {
      "cell_type": "code",
      "source": [
        "#indexing\n",
        "x = torch.arange(24, dtype=torch.float32).reshape(2, 3, 4)\n",
        "print(x.shape)\n",
        "print(x)\n",
        "print(x[0])\n",
        "print(x[0][1])\n",
        "print(x[0,1])\n",
        "print(x[0][1][2])\n",
        "print(x[0, 1, 2])\n",
        "print(x[0, :, 2])\n",
        "print(x[0, 1, :])\n",
        "print(x[0, :, :])\n",
        "print(x[:, 1, :])\n",
        "print(x[:, :, 2])\n",
        "print(x[:, :, :])"
      ],
      "metadata": {
        "colab": {
          "base_uri": "https://localhost:8080/"
        },
        "id": "6RPLrUQYlLN-",
        "outputId": "85e59f8e-e98c-4086-d548-6b2529ef0979"
      },
      "execution_count": null,
      "outputs": [
        {
          "output_type": "stream",
          "name": "stdout",
          "text": [
            "torch.Size([2, 3, 4])\n",
            "tensor([[[ 0.,  1.,  2.,  3.],\n",
            "         [ 4.,  5.,  6.,  7.],\n",
            "         [ 8.,  9., 10., 11.]],\n",
            "\n",
            "        [[12., 13., 14., 15.],\n",
            "         [16., 17., 18., 19.],\n",
            "         [20., 21., 22., 23.]]])\n",
            "tensor([[ 0.,  1.,  2.,  3.],\n",
            "        [ 4.,  5.,  6.,  7.],\n",
            "        [ 8.,  9., 10., 11.]])\n",
            "tensor([4., 5., 6., 7.])\n",
            "tensor([4., 5., 6., 7.])\n",
            "tensor(6.)\n",
            "tensor(6.)\n",
            "tensor([ 2.,  6., 10.])\n",
            "tensor([4., 5., 6., 7.])\n",
            "tensor([[ 0.,  1.,  2.,  3.],\n",
            "        [ 4.,  5.,  6.,  7.],\n",
            "        [ 8.,  9., 10., 11.]])\n",
            "tensor([[ 4.,  5.,  6.,  7.],\n",
            "        [16., 17., 18., 19.]])\n",
            "tensor([[ 2.,  6., 10.],\n",
            "        [14., 18., 22.]])\n",
            "tensor([[[ 0.,  1.,  2.,  3.],\n",
            "         [ 4.,  5.,  6.,  7.],\n",
            "         [ 8.,  9., 10., 11.]],\n",
            "\n",
            "        [[12., 13., 14., 15.],\n",
            "         [16., 17., 18., 19.],\n",
            "         [20., 21., 22., 23.]]])\n"
          ]
        }
      ]
    },
    {
      "cell_type": "code",
      "source": [
        "#nympy to tensor and vice versa\n",
        "array = np.arange(1.0, 8.0)\n",
        "tensor = torch.from_numpy(array)\n",
        "print(array)\n",
        "print(tensor)\n",
        "print(tensor.numpy())"
      ],
      "metadata": {
        "id": "HGvF1PRGlTaP"
      },
      "execution_count": null,
      "outputs": []
    },
    {
      "cell_type": "code",
      "source": [
        "#random seed\n",
        "torch.manual_seed(42)\n",
        "random_tensor = torch.rand(3, 4)\n",
        "print(random_tensor)"
      ],
      "metadata": {
        "colab": {
          "base_uri": "https://localhost:8080/"
        },
        "id": "OS_xrGNOlOHh",
        "outputId": "88dca1df-e3b6-4a4c-b46c-d410c87a6ae3"
      },
      "execution_count": null,
      "outputs": [
        {
          "output_type": "stream",
          "name": "stdout",
          "text": [
            "tensor([[0.8823, 0.9150, 0.3829, 0.9593],\n",
            "        [0.3904, 0.6009, 0.2566, 0.7936],\n",
            "        [0.9408, 0.1332, 0.9346, 0.5936]])\n"
          ]
        }
      ]
    },
    {
      "cell_type": "code",
      "source": [
        "#transer tensor to GPU\n",
        "tensor_on_gpu = random_tensor.to(device)\n",
        "print(tensor_on_gpu)"
      ],
      "metadata": {
        "id": "fa2M5CCll2fR"
      },
      "execution_count": null,
      "outputs": []
    },
    {
      "cell_type": "code",
      "source": [
        "#on peut pas convertir un tensor qui tourne en gpu en un tableau numpy il faut changer de device en cpu\n",
        "tensor_on_gpu = random_tensor.cpu().numpy()\n",
        "print(tensor_on_gpu)"
      ],
      "metadata": {
        "id": "wfpdJB4gmaJe"
      },
      "execution_count": null,
      "outputs": []
    },
    {
      "cell_type": "markdown",
      "source": [
        "# Tensor and NN layers"
      ],
      "metadata": {
        "id": "wzDRV1yQmiAd"
      }
    },
    {
      "cell_type": "code",
      "source": [
        "import torch.nn as nn\n",
        "\n",
        "m = nn.Linear(20, 30)\n",
        "print(m)\n",
        "input = torch.randn(2, 20)\n",
        "print(input)\n",
        "output = m(input)\n",
        "print(output)\n",
        "output.shape"
      ],
      "metadata": {
        "colab": {
          "base_uri": "https://localhost:8080/"
        },
        "id": "o06JRk7UmnAy",
        "outputId": "3cfe10c3-e172-4e4c-af87-4f2067175f6a"
      },
      "execution_count": null,
      "outputs": [
        {
          "output_type": "stream",
          "name": "stdout",
          "text": [
            "Linear(in_features=20, out_features=30, bias=True)\n",
            "tensor([[ 1.1483,  0.9896,  0.1185,  0.9838, -2.4790,  1.0514,  0.7052, -0.4767,\n",
            "          0.9602, -1.0891, -1.2615, -2.0549,  0.6103,  1.0775, -0.8897,  2.3869,\n",
            "          0.5349,  0.2829,  0.2560, -1.0973],\n",
            "        [ 0.8444,  1.2230, -0.6072, -1.8007, -0.5021,  0.5068,  0.2829, -1.1814,\n",
            "         -0.9002,  2.1022,  0.1331,  0.0224,  0.6478, -0.6848, -0.7950, -1.7334,\n",
            "          1.1859,  0.4466,  1.1301, -0.3334]])\n",
            "tensor([[-0.4312, -0.4252,  0.6011,  0.3211,  0.6751,  0.6377,  0.8863, -0.6096,\n",
            "         -0.4966, -0.2253,  0.3574, -0.0236,  0.2998, -1.4840,  0.0460, -1.2943,\n",
            "          0.0879,  0.5404, -1.0395,  0.6145, -0.3112,  0.6164, -1.7344, -0.8575,\n",
            "          0.3700,  0.7115,  0.1948, -0.2313,  1.5597, -0.5146],\n",
            "        [ 0.3925, -0.5947,  0.0277, -0.2948,  0.6366,  0.0986,  0.0822,  0.9156,\n",
            "          0.3705,  0.2394, -0.9778,  1.3816, -0.5492,  0.9645,  0.8177,  0.4922,\n",
            "         -0.2503,  1.3449,  0.1672, -0.6056,  0.3460, -0.3559, -0.0248,  0.5280,\n",
            "          0.5729, -0.7724, -0.3426,  1.1312, -0.9765,  0.2986]],\n",
            "       grad_fn=<AddmmBackward0>)\n"
          ]
        },
        {
          "output_type": "execute_result",
          "data": {
            "text/plain": [
              "torch.Size([2, 30])"
            ]
          },
          "metadata": {},
          "execution_count": 34
        }
      ]
    },
    {
      "cell_type": "code",
      "source": [
        "y = nn.Linear(3,2, bias=False)\n",
        "print(type(y))\n",
        "print(y.weight)\n",
        "print(y.weight.shape)\n",
        "input = torch.tensor([[1.2,2.,3.], [1.2,2.,3.]])\n",
        "print(y(input))\n",
        "print(torch.matmul(input, y.weight.T))"
      ],
      "metadata": {
        "colab": {
          "base_uri": "https://localhost:8080/"
        },
        "id": "PEw1hzvvo1-O",
        "outputId": "b4613004-f46b-44c3-f45a-8141baf87042"
      },
      "execution_count": null,
      "outputs": [
        {
          "output_type": "stream",
          "name": "stdout",
          "text": [
            "<class 'torch.nn.modules.linear.Linear'>\n",
            "Parameter containing:\n",
            "tensor([[ 0.5176, -0.0239, -0.5117],\n",
            "        [ 0.1606, -0.1175, -0.5186]], requires_grad=True)\n",
            "torch.Size([2, 3])\n",
            "tensor([[-0.9617, -1.5981],\n",
            "        [-0.9617, -1.5981]], grad_fn=<MmBackward0>)\n",
            "tensor([[-0.9617, -1.5981],\n",
            "        [-0.9617, -1.5981]], grad_fn=<MmBackward0>)\n"
          ]
        }
      ]
    },
    {
      "cell_type": "code",
      "source": [
        "m = nn.Dropout(p=0.5)\n",
        "input = torch.randn(2, 16)\n",
        "print(input)\n",
        "output = m(input)\n",
        "print(output)"
      ],
      "metadata": {
        "colab": {
          "base_uri": "https://localhost:8080/"
        },
        "id": "WqJOW3wmmtYh",
        "outputId": "3ecc538c-949c-4e11-efd9-50251bfc241e"
      },
      "execution_count": null,
      "outputs": [
        {
          "output_type": "stream",
          "name": "stdout",
          "text": [
            "tensor([[ 0.4130,  1.0925, -1.1565,  0.9010, -0.1884, -1.2726,  0.5765, -0.3559,\n",
            "          0.7726,  0.6406,  1.7512,  0.1959,  1.7758, -0.1852,  1.0595,  1.2978],\n",
            "        [-0.4828, -1.0801,  0.2704, -1.1818, -1.0340, -0.4947, -0.8951,  0.5340,\n",
            "          0.9070,  0.0391,  0.6588, -0.2967,  0.2332, -1.3473, -0.8231, -0.5395]])\n",
            "tensor([[ 0.8261,  0.0000, -2.3130,  0.0000, -0.3769, -2.5452,  0.0000, -0.7119,\n",
            "          0.0000,  0.0000,  3.5023,  0.3918,  0.0000, -0.0000,  2.1190,  0.0000],\n",
            "        [-0.0000, -2.1603,  0.0000, -2.3637, -0.0000, -0.9895, -0.0000,  1.0680,\n",
            "          1.8140,  0.0783,  0.0000, -0.0000,  0.0000, -2.6946, -1.6462, -0.0000]])\n"
          ]
        }
      ]
    },
    {
      "cell_type": "code",
      "source": [
        "embeddings = nn.Embedding(10, 5)\n",
        "print(embeddings)\n",
        "print(embeddings.weight)"
      ],
      "metadata": {
        "colab": {
          "base_uri": "https://localhost:8080/"
        },
        "id": "cbWvRWg4myHC",
        "outputId": "ab6b48ea-74e0-4562-c210-3557d9262c4c"
      },
      "execution_count": null,
      "outputs": [
        {
          "output_type": "stream",
          "name": "stdout",
          "text": [
            "Embedding(10, 5)\n",
            "Parameter containing:\n",
            "tensor([[ 0.1194, -1.0332,  0.5838,  1.0166, -0.7942],\n",
            "        [ 0.3674,  0.4293,  2.0289, -0.5153, -1.2263],\n",
            "        [-0.1133,  0.3085, -0.4411, -0.7797, -0.7566],\n",
            "        [ 1.5148, -0.2007,  0.6386, -0.4361, -1.0023],\n",
            "        [ 0.3780,  0.0428,  0.5859, -1.3688, -1.4919],\n",
            "        [ 0.2769,  1.0580, -0.0515,  0.1713, -0.2117],\n",
            "        [-0.1788, -0.8498, -0.2729, -0.3485,  0.2413],\n",
            "        [ 0.1828,  0.6247, -0.7940, -0.6748, -0.3877],\n",
            "        [ 0.4497, -1.0259, -1.9105,  0.2609,  1.4178],\n",
            "        [ 0.6738,  1.4666, -1.1077, -0.7444,  0.3588]], requires_grad=True)\n"
          ]
        }
      ]
    },
    {
      "cell_type": "code",
      "source": [
        "x = nn.Parameter(torch.ones(3))\n",
        "print(type(x))\n",
        "print(x.data)\n",
        "print(x)"
      ],
      "metadata": {
        "id": "lE_o5MUQo0T2"
      },
      "execution_count": null,
      "outputs": []
    },
    {
      "cell_type": "code",
      "source": [
        "mask = torch.triu(torch.ones(6, 6), diagonal=1)\n",
        "print(mask)\n",
        "print(mask.bool())"
      ],
      "metadata": {
        "colab": {
          "base_uri": "https://localhost:8080/"
        },
        "id": "OUjHve9em1sY",
        "outputId": "57c38c15-eb9a-4e7b-fde5-1b154ae23486"
      },
      "execution_count": null,
      "outputs": [
        {
          "output_type": "stream",
          "name": "stdout",
          "text": [
            "tensor([[0., 1., 1., 1., 1., 1.],\n",
            "        [0., 0., 1., 1., 1., 1.],\n",
            "        [0., 0., 0., 1., 1., 1.],\n",
            "        [0., 0., 0., 0., 1., 1.],\n",
            "        [0., 0., 0., 0., 0., 1.],\n",
            "        [0., 0., 0., 0., 0., 0.]])\n",
            "tensor([[False,  True,  True,  True,  True,  True],\n",
            "        [False, False,  True,  True,  True,  True],\n",
            "        [False, False, False,  True,  True,  True],\n",
            "        [False, False, False, False,  True,  True],\n",
            "        [False, False, False, False, False,  True],\n",
            "        [False, False, False, False, False, False]])\n"
          ]
        }
      ]
    },
    {
      "cell_type": "code",
      "source": [
        "attn_scores = torch.rand(6, 6)\n",
        "masked = attn_scores.masked_fill(mask.bool(), -torch.inf)\n",
        "print(masked)"
      ],
      "metadata": {
        "colab": {
          "base_uri": "https://localhost:8080/"
        },
        "id": "tgF2dc0Hm5Y2",
        "outputId": "804a9117-9805-4677-df9e-864b9fb21094"
      },
      "execution_count": null,
      "outputs": [
        {
          "output_type": "stream",
          "name": "stdout",
          "text": [
            "tensor([[0.2983,   -inf,   -inf,   -inf,   -inf,   -inf],\n",
            "        [0.4834, 0.3095,   -inf,   -inf,   -inf,   -inf],\n",
            "        [0.8067, 0.0515, 0.0180,   -inf,   -inf,   -inf],\n",
            "        [0.4034, 0.7282, 0.0612, 0.5736,   -inf,   -inf],\n",
            "        [0.9970, 0.8077, 0.2231, 0.0903, 0.3789,   -inf],\n",
            "        [0.6747, 0.5046, 0.9022, 0.6964, 0.4081, 0.5172]])\n"
          ]
        }
      ]
    },
    {
      "cell_type": "code",
      "source": [
        "a = torch.tensor([\n",
        "    [\n",
        "        [\n",
        "        [0.2745, 0.6584, 0.2775, 0.8573],\n",
        "        [0.8993, 0.0390, 0.9268, 0.7388],\n",
        "        [0.7179, 0.7058, 0.9156, 0.4340]\n",
        "        ],\n",
        "        [\n",
        "        [0.0772, 0.3565, 0.1479, 0.5331],\n",
        "        [0.4066, 0.2318, 0.4545, 0.9737],\n",
        "        [0.4606, 0.5159, 0.4220, 0.5786]\n",
        "        ]\n",
        "    ]\n",
        "])\n",
        "\n",
        "print(a.shape)\n",
        "print(a.transpose(2, 3))"
      ],
      "metadata": {
        "id": "RyemmltFm9Jw"
      },
      "execution_count": null,
      "outputs": []
    },
    {
      "cell_type": "code",
      "source": [
        "b = a @ a.transpose(2, 3)\n",
        "print(b.shape)\n",
        "print(b)"
      ],
      "metadata": {
        "id": "-gO2SCWPnCba"
      },
      "execution_count": null,
      "outputs": []
    },
    {
      "cell_type": "code",
      "source": [
        "first_head = a[0, 0, : , :]\n",
        "print(first_head)"
      ],
      "metadata": {
        "id": "YAXdDeU_nIax"
      },
      "execution_count": null,
      "outputs": []
    },
    {
      "cell_type": "code",
      "source": [
        "second_head = a[0, 1, : , :]\n",
        "print(second_head)"
      ],
      "metadata": {
        "id": "lQwGnn0AnPaw"
      },
      "execution_count": null,
      "outputs": []
    },
    {
      "cell_type": "code",
      "source": [
        "x = torch.randn(2, 6, 768)\n",
        "print(x.shape)\n",
        "y = x.view(2, 6, 12, 64)\n",
        "print(y.shape)\n",
        "context_vec = y.contiguous().view(2, 6, 768)\n",
        "print(context_vec.shape)"
      ],
      "metadata": {
        "id": "95KLfGACnYKc"
      },
      "execution_count": null,
      "outputs": []
    }
  ]
}